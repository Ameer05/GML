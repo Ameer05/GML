{
 "cells": [
  {
   "cell_type": "code",
   "execution_count": 8,
   "metadata": {
    "id": "ku7F_TeSgzer",
    "outputId": "51b4657a-7776-4435-e5b9-02671285a76b"
   },
   "outputs": [
    {
     "name": "stderr",
     "output_type": "stream",
     "text": [
      "\u001b[34m\u001b[1mwandb\u001b[0m: \u001b[33mWARNING\u001b[0m W&B installed but not logged in.  Run `wandb login` or set the WANDB_API_KEY env variable.\n"
     ]
    },
    {
     "name": "stdout",
     "output_type": "stream",
     "text": [
      "GML is up to date \n",
      " \n",
      "\r\n",
      "\r\n",
      "Feel free to contact us at: https://github.com/Muhammad4hmed/Ghalat-Machine-Learning\n",
      "Your GML is ready!\n"
     ]
    }
   ],
   "source": [
    "from GML import AutoNLP"
   ]
  },
  {
   "cell_type": "code",
   "execution_count": 9,
   "metadata": {},
   "outputs": [],
   "source": [
    "import pandas as pd"
   ]
  },
  {
   "cell_type": "code",
   "execution_count": 10,
   "metadata": {
    "id": "huRXlK4abIRi"
   },
   "outputs": [],
   "source": [
    "data = pd.read_csv('../input/nlp-dataset-for-gml/train.csv')"
   ]
  },
  {
   "cell_type": "code",
   "execution_count": 11,
   "metadata": {},
   "outputs": [],
   "source": [
    "X = data['ABSTRACT'].copy()\n",
    "y = data['Computer Science'].values"
   ]
  },
  {
   "cell_type": "code",
   "execution_count": 12,
   "metadata": {
    "id": "Yu_AO1KRbOYt"
   },
   "outputs": [],
   "source": [
    "nlp = AutoNLP()"
   ]
  },
  {
   "cell_type": "markdown",
   "metadata": {},
   "source": [
    "Pass each text individually to the clean function. but thats easy with pandas' apply function"
   ]
  },
  {
   "cell_type": "markdown",
   "metadata": {},
   "source": [
    "Arguments of clean function are as below:\n",
    "\n",
    "text, <br>\n",
    "fix_unicode=True, <br>\n",
    "to_ascii=True, <br>\n",
    "lower=True, <br>\n",
    "no_line_breaks=True, <br>\n",
    "no_urls=True, <br>\n",
    "no_emails=True, <br>\n",
    "no_phone_numbers=True, <br>\n",
    "no_numbers=True, <br>\n",
    "no_digits=True, <br>\n",
    "no_currency_symbols=True, <br>\n",
    "no_punct=True, <br>\n",
    "replace_with_url='<URL>', <br>\n",
    "replace_with_email='<EMAIL>', <br>\n",
    "replace_with_phone_number='<PHONE>', <br>\n",
    "replace_with_number='<NUMBER>', <br>\n",
    "replace_with_digit='0', <br>\n",
    "replace_with_currency_symbol='<CUR>', <br>\n",
    "lang='en'"
   ]
  },
  {
   "cell_type": "code",
   "execution_count": null,
   "metadata": {
    "id": "XGl-IoyIbcW8"
   },
   "outputs": [],
   "source": [
    "cleanX = X.apply(lambda x: nlp.clean(x))"
   ]
  },
  {
   "cell_type": "code",
   "execution_count": null,
   "metadata": {
    "id": "dnoxZjmTbhGm",
    "outputId": "d8af6e14-8878-41a9-8af7-adf5d8763009"
   },
   "outputs": [],
   "source": [
    "cleanX = pd.DataFrame(cleanX, columns = ['ABSTRACT'])\n",
    "cleanX"
   ]
  },
  {
   "cell_type": "markdown",
   "metadata": {},
   "source": [
    "Lets check all the models available for Tokenizing and Modeling"
   ]
  },
  {
   "cell_type": "code",
   "execution_count": null,
   "metadata": {
    "id": "ezGHSsbXdHGi",
    "outputId": "d71a5657-f145-45b3-b6f8-cf534342bbda"
   },
   "outputs": [],
   "source": [
    "nlp.Model_Names()"
   ]
  },
  {
   "cell_type": "markdown",
   "metadata": {},
   "source": [
    "Lets use roberta-large-mnli for both, tokenizing and modeling"
   ]
  },
  {
   "cell_type": "code",
   "execution_count": null,
   "metadata": {
    "id": "rQyxaXzGcrrx"
   },
   "outputs": [],
   "source": [
    "nlp.set_params(cleanX, tokenizer_name='roberta-large-mnli', BATCH_SIZE=4,\n",
    "               model_name='roberta-large-mnli', MAX_LEN=200)"
   ]
  },
  {
   "cell_type": "markdown",
   "metadata": {},
   "source": [
    "Above function <b>IMPORTANT</b> to call in order to initialize parameters"
   ]
  },
  {
   "cell_type": "markdown",
   "metadata": {},
   "source": [
    "As we have specified max lenght to 200, lets truncate any long sentence"
   ]
  },
  {
   "cell_type": "code",
   "execution_count": null,
   "metadata": {
    "id": "DB7uve4zeroP"
   },
   "outputs": [],
   "source": [
    "def trunc_text(x):\n",
    "  if len(x) > 200:\n",
    "    return x[:200]\n",
    "  return x\n",
    "\n",
    "cleanX = cleanX['ABSTRACT'].apply(lambda x: trunc_text(x))"
   ]
  },
  {
   "cell_type": "markdown",
   "metadata": {},
   "source": [
    "Lets tokenize the text"
   ]
  },
  {
   "cell_type": "code",
   "execution_count": null,
   "metadata": {
    "id": "TXvurrJecIML",
    "outputId": "593d203c-776d-4648-bb0e-1d831cea67b1"
   },
   "outputs": [],
   "source": [
    "tokenizedX = nlp.tokenize(cleanX)"
   ]
  },
  {
   "cell_type": "code",
   "execution_count": null,
   "metadata": {
    "id": "gJfT_iB4eFjx",
    "outputId": "6e264913-65db-487d-ac70-acb425e144d1"
   },
   "outputs": [],
   "source": [
    "tokenizedX"
   ]
  },
  {
   "cell_type": "code",
   "execution_count": null,
   "metadata": {
    "id": "KW_7D4WTe9KH",
    "outputId": "2e5272db-3c50-406b-91fb-aaa9cb3b7a35"
   },
   "outputs": [],
   "source": [
    "model = nlp.train_model(tokenizedX, y)"
   ]
  }
 ],
 "metadata": {
  "kernelspec": {
   "display_name": "Python 3",
   "language": "python",
   "name": "python3"
  },
  "language_info": {
   "codemirror_mode": {
    "name": "ipython",
    "version": 3
   },
   "file_extension": ".py",
   "mimetype": "text/x-python",
   "name": "python",
   "nbconvert_exporter": "python",
   "pygments_lexer": "ipython3",
   "version": "3.8.3"
  }
 },
 "nbformat": 4,
 "nbformat_minor": 4
}
