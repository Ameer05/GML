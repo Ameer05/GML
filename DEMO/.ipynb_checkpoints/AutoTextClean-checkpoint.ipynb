{
 "cells": [
  {
   "cell_type": "code",
   "execution_count": 8,
   "metadata": {
    "id": "ku7F_TeSgzer",
    "outputId": "51b4657a-7776-4435-e5b9-02671285a76b"
   },
   "outputs": [
    {
     "name": "stderr",
     "output_type": "stream",
     "text": [
      "\u001b[34m\u001b[1mwandb\u001b[0m: \u001b[33mWARNING\u001b[0m W&B installed but not logged in.  Run `wandb login` or set the WANDB_API_KEY env variable.\n"
     ]
    },
    {
     "name": "stdout",
     "output_type": "stream",
     "text": [
      "GML is up to date \n",
      " \n",
      "\r\n",
      "\r\n",
      "Feel free to contact us at: https://github.com/Muhammad4hmed/Ghalat-Machine-Learning\n",
      "Your GML is ready!\n"
     ]
    }
   ],
   "source": [
    "from GML import AutoNLP"
   ]
  },
  {
   "cell_type": "code",
   "execution_count": 9,
   "metadata": {},
   "outputs": [],
   "source": [
    "import pandas as pd"
   ]
  },
  {
   "cell_type": "code",
   "execution_count": 10,
   "metadata": {
    "id": "huRXlK4abIRi"
   },
   "outputs": [],
   "source": [
    "data = pd.read_csv('../input/nlp-dataset-for-gml/train.csv')"
   ]
  },
  {
   "cell_type": "code",
   "execution_count": 11,
   "metadata": {},
   "outputs": [],
   "source": [
    "X = data['ABSTRACT'].copy()\n",
    "y = data['Computer Science'].values"
   ]
  },
  {
   "cell_type": "code",
   "execution_count": 12,
   "metadata": {
    "id": "Yu_AO1KRbOYt"
   },
   "outputs": [],
   "source": [
    "nlp = AutoNLP()"
   ]
  },
  {
   "cell_type": "markdown",
   "metadata": {},
   "source": [
    "Pass each text individually to the clean function. but thats easy with pandas' apply function"
   ]
  },
  {
   "cell_type": "markdown",
   "metadata": {},
   "source": [
    "Arguments of clean function are as below:\n",
    "\n",
    "text, <br>\n",
    "fix_unicode=True, <br>\n",
    "to_ascii=True, <br>\n",
    "lower=True, <br>\n",
    "no_line_breaks=True, <br>\n",
    "no_urls=True, <br>\n",
    "no_emails=True, <br>\n",
    "no_phone_numbers=True, <br>\n",
    "no_numbers=True, <br>\n",
    "no_digits=True, <br>\n",
    "no_currency_symbols=True, <br>\n",
    "no_punct=True, <br>\n",
    "replace_with_url='<URL>', <br>\n",
    "replace_with_email='<EMAIL>', <br>\n",
    "replace_with_phone_number='<PHONE>', <br>\n",
    "replace_with_number='<NUMBER>', <br>\n",
    "replace_with_digit='0', <br>\n",
    "replace_with_currency_symbol='<CUR>', <br>\n",
    "lang='en'"
   ]
  },
  {
   "cell_type": "code",
   "execution_count": 13,
   "metadata": {
    "id": "XGl-IoyIbcW8"
   },
   "outputs": [],
   "source": [
    "cleanX = X.apply(lambda x: nlp.clean(x))"
   ]
  },
  {
   "cell_type": "code",
   "execution_count": 14,
   "metadata": {
    "id": "dnoxZjmTbhGm",
    "outputId": "d8af6e14-8878-41a9-8af7-adf5d8763009"
   },
   "outputs": [
    {
     "data": {
      "text/html": [
       "<div>\n",
       "<style scoped>\n",
       "    .dataframe tbody tr th:only-of-type {\n",
       "        vertical-align: middle;\n",
       "    }\n",
       "\n",
       "    .dataframe tbody tr th {\n",
       "        vertical-align: top;\n",
       "    }\n",
       "\n",
       "    .dataframe thead th {\n",
       "        text-align: right;\n",
       "    }\n",
       "</style>\n",
       "<table border=\"1\" class=\"dataframe\">\n",
       "  <thead>\n",
       "    <tr style=\"text-align: right;\">\n",
       "      <th></th>\n",
       "      <th>ABSTRACT</th>\n",
       "    </tr>\n",
       "  </thead>\n",
       "  <tbody>\n",
       "    <tr>\n",
       "      <th>0</th>\n",
       "      <td>predictive models allow subjectspecific infere...</td>\n",
       "    </tr>\n",
       "    <tr>\n",
       "      <th>1</th>\n",
       "      <td>rotation invariance and translation invariance...</td>\n",
       "    </tr>\n",
       "    <tr>\n",
       "      <th>2</th>\n",
       "      <td>we introduce and develop the notion of spheric...</td>\n",
       "    </tr>\n",
       "    <tr>\n",
       "      <th>3</th>\n",
       "      <td>the stochastic landaulifshitzgilbert llg equat...</td>\n",
       "    </tr>\n",
       "    <tr>\n",
       "      <th>4</th>\n",
       "      <td>fouriertransform infrared ftir spectra of samp...</td>\n",
       "    </tr>\n",
       "    <tr>\n",
       "      <th>...</th>\n",
       "      <td>...</td>\n",
       "    </tr>\n",
       "    <tr>\n",
       "      <th>20967</th>\n",
       "      <td>machine learning is finding increasingly broad...</td>\n",
       "    </tr>\n",
       "    <tr>\n",
       "      <th>20968</th>\n",
       "      <td>polycrystalline diamond coatings have been gro...</td>\n",
       "    </tr>\n",
       "    <tr>\n",
       "      <th>20969</th>\n",
       "      <td>we present a new approach for identifying situ...</td>\n",
       "    </tr>\n",
       "    <tr>\n",
       "      <th>20970</th>\n",
       "      <td>the sum of lognormal variates is encountered i...</td>\n",
       "    </tr>\n",
       "    <tr>\n",
       "      <th>20971</th>\n",
       "      <td>recently optional stopping has been a subject ...</td>\n",
       "    </tr>\n",
       "  </tbody>\n",
       "</table>\n",
       "<p>20972 rows × 1 columns</p>\n",
       "</div>"
      ],
      "text/plain": [
       "                                                ABSTRACT\n",
       "0      predictive models allow subjectspecific infere...\n",
       "1      rotation invariance and translation invariance...\n",
       "2      we introduce and develop the notion of spheric...\n",
       "3      the stochastic landaulifshitzgilbert llg equat...\n",
       "4      fouriertransform infrared ftir spectra of samp...\n",
       "...                                                  ...\n",
       "20967  machine learning is finding increasingly broad...\n",
       "20968  polycrystalline diamond coatings have been gro...\n",
       "20969  we present a new approach for identifying situ...\n",
       "20970  the sum of lognormal variates is encountered i...\n",
       "20971  recently optional stopping has been a subject ...\n",
       "\n",
       "[20972 rows x 1 columns]"
      ]
     },
     "execution_count": 14,
     "metadata": {},
     "output_type": "execute_result"
    }
   ],
   "source": [
    "cleanX = pd.DataFrame(cleanX, columns = ['ABSTRACT'])\n",
    "cleanX"
   ]
  }
 ],
 "metadata": {
  "kernelspec": {
   "display_name": "Python 3",
   "language": "python",
   "name": "python3"
  },
  "language_info": {
   "codemirror_mode": {
    "name": "ipython",
    "version": 3
   },
   "file_extension": ".py",
   "mimetype": "text/x-python",
   "name": "python",
   "nbconvert_exporter": "python",
   "pygments_lexer": "ipython3",
   "version": "3.8.3"
  }
 },
 "nbformat": 4,
 "nbformat_minor": 4
}
