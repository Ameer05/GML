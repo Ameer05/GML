{
 "cells": [
  {
   "cell_type": "code",
   "execution_count": 52,
   "metadata": {},
   "outputs": [],
   "source": [
    "from GML import Auto_Image_Processing"
   ]
  },
  {
   "cell_type": "code",
   "execution_count": 53,
   "metadata": {},
   "outputs": [],
   "source": [
    "gml_image_processing = Auto_Image_Processing()"
   ]
  },
  {
   "cell_type": "markdown",
   "metadata": {},
   "source": [
    "There are two functions, imgClassificationcsv and imgClassificationfolder.\n",
    "\n",
    "Both have same arguments with a little variations.\n",
    "Use csv's when you have data information in csv and use folder's when data is in folder manner."
   ]
  },
  {
   "cell_type": "markdown",
   "metadata": {},
   "source": [
    "Arguments are as follows:\n",
    "\n",
    "model_list: list of names of all models that need to be trained <br>\n",
    "Call Model_Names() function to get the list of available models <br>\n",
    "\n",
    "img_path: path to the images root folder containing the set of images <br>\n",
    "train_path:path to the .csv file containing image names and labels <br>\n",
    "tfms: augmentation transforms. Possible methods are True or False <br>\n",
    "advance_augmentation: Should we apply advance data augmentation? <br>\n",
    "size: individual image size in dataloader. Default size set to 224 <br>\n",
    "bs:batch size <br>\n",
    "epochs:number of epochs for which the individual models need to be trained <br>\n",
    "test_size:test size for ranking the models <br>"
   ]
  },
  {
   "cell_type": "markdown",
   "metadata": {},
   "source": [
    "lets call Model_Names()"
   ]
  },
  {
   "cell_type": "code",
   "execution_count": 54,
   "metadata": {},
   "outputs": [
    {
     "name": "stdout",
     "output_type": "stream",
     "text": [
      "List of available models\n",
      "resnet18\n",
      "resnet34\n",
      "resnet50\n",
      "resnet101\n",
      "resnet152\n",
      "densenet121\n",
      "densenet169\n",
      "densenet201\n",
      "densenet161\n",
      "vgg16_bn\n",
      "vgg19_bn\n"
     ]
    }
   ],
   "source": [
    "gml_image_processing.Model_Names()"
   ]
  },
  {
   "cell_type": "markdown",
   "metadata": {},
   "source": [
    "Lets make list of models, please note, if we don't provide list, all the models will run"
   ]
  },
  {
   "cell_type": "code",
   "execution_count": 55,
   "metadata": {},
   "outputs": [],
   "source": [
    "models = ['resnet18', 'vgg16_bn']"
   ]
  },
  {
   "cell_type": "markdown",
   "metadata": {},
   "source": [
    "# Augmentations"
   ]
  },
  {
   "cell_type": "markdown",
   "metadata": {},
   "source": [
    "To apply augmentation, pass tfms = True which will apply basic augmentations. To apply advance augmentation, pass tfms = True and advance_augmentation = True"
   ]
  },
  {
   "cell_type": "markdown",
   "metadata": {},
   "source": [
    "Make sure the paths are relative"
   ]
  },
  {
   "cell_type": "code",
   "execution_count": null,
   "metadata": {},
   "outputs": [],
   "source": [
    "model = gml_image_processing.imgClassificationcsv(img_path = './covid_image_data/train', \n",
    "                                                  train_path = './covid_image_data/Training_set_covid.csv', \n",
    "                                                  model_list = models,\n",
    "                                                 tfms = True, advance_augmentation = True, \n",
    "                                                  epochs=1)"
   ]
  }
 ],
 "metadata": {
  "kernelspec": {
   "display_name": "Python 3",
   "language": "python",
   "name": "python3"
  },
  "language_info": {
   "codemirror_mode": {
    "name": "ipython",
    "version": 3
   },
   "file_extension": ".py",
   "mimetype": "text/x-python",
   "name": "python",
   "nbconvert_exporter": "python",
   "pygments_lexer": "ipython3",
   "version": "3.8.3"
  }
 },
 "nbformat": 4,
 "nbformat_minor": 4
}
